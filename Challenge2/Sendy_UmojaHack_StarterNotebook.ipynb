{
  "nbformat": 4,
  "nbformat_minor": 0,
  "metadata": {
    "colab": {
      "name": "Sendy_UmojaHack_StarterNotebook.ipynb",
      "provenance": [],
      "collapsed_sections": [],
      "toc_visible": true
    },
    "kernelspec": {
      "name": "python3",
      "display_name": "Python 3",
      "language": "python"
    },
    "language_info": {
      "name": "python",
      "version": "3.8.5-final"
    }
  },
  "cells": [
    {
      "cell_type": "markdown",
      "metadata": {
        "id": "trFRqFe0KC76"
      },
      "source": [
        "# Simple Starter Notebook for;\n",
        "## UmojaHack Africa 2021 #2: Sendy - Delivery Rider Response Challenge by UmojaHack Africa\n",
        "\n",
        "Can you predict who is the best delivery rider for an order placed via logistics company Sendy?\n",
        "\n",
        "![Umoja Hack](https://zindpublic.blob.core.windows.net/public/uploads/competition/image/152/thumb_c5ec4e2a-e000-4176-a93c-dd1143c2b60f.png)\n",
        "\n",
        "The objective of this challenge is to create a machine learning model that will predict whether a rider will accept, decline or ignore an order sent to them."
      ]
    },
    {
      "cell_type": "code",
      "metadata": {
        "id": "YBArGtJwFzwO"
      },
      "source": [
        "# Import libraries\n",
        "import pandas as pd\n",
        "import numpy as np\n",
        "from sklearn.model_selection import train_test_split\n",
        "from lightgbm import LGBMClassifier\n",
        "from sklearn.metrics import accuracy_score"
      ],
      "execution_count": 298,
      "outputs": []
    },
    {
      "cell_type": "code",
      "metadata": {
        "id": "A1Nlsw9lGHTB"
      },
      "source": [
        "# Load files\n",
        "train = pd.read_csv('Train.csv')\n",
        "test = pd.read_csv('Test.csv')\n",
        "riders = pd.read_csv('Riders.csv')\n",
        "ss = pd.read_csv('SampleSubmission.csv')"
      ],
      "execution_count": 299,
      "outputs": []
    },
    {
      "cell_type": "code",
      "metadata": {
        "colab": {
          "base_uri": "https://localhost:8080/"
        },
        "id": "a7Jni6DMGVKd",
        "outputId": "885acd22-6f8a-4208-8a46-afb6157c64c6"
      },
      "source": [
        "# check data shapes\n",
        "train.shape, test.shape, riders.shape, ss.shape"
      ],
      "execution_count": 300,
      "outputs": [
        {
          "output_type": "execute_result",
          "data": {
            "text/plain": [
              "((179867, 21), (76791, 20), (2632, 4), (76791, 2))"
            ]
          },
          "metadata": {},
          "execution_count": 300
        }
      ]
    },
    {
      "cell_type": "code",
      "metadata": {
        "colab": {
          "base_uri": "https://localhost:8080/",
          "height": 215
        },
        "id": "LRHncK2pHSmR",
        "outputId": "b0338adc-d0af-4262-8718-27f39ddae721"
      },
      "source": [
        "# Preview train\n",
        "train.head()"
      ],
      "execution_count": 301,
      "outputs": [
        {
          "output_type": "execute_result",
          "data": {
            "text/plain": [
              "              ID  order_id  dispatch_day  dispatch_day_of_week dispatch_time  \\\n",
              "0  ID_SCUW21PVAU      4435            27                     6      09:02:54   \n",
              "1  ID_2HA7X30JMN     32711            30                     7      13:01:37   \n",
              "2  ID_IAJWDTBY6M      8712            14                     2      10:01:00   \n",
              "3  ID_LKSVPNYMTR     44869            22                     3      14:11:16   \n",
              "4  ID_O7N8Y918YH     57590            27                     5      16:11:38   \n",
              "\n",
              "   client_id client_type  order_license_status  order_carrier_type  \\\n",
              "0     593630    Business                     0                   2   \n",
              "1     837729    Personal                     0                   1   \n",
              "2     695129    Personal                     0                   2   \n",
              "3    1504660    Personal                     0                   2   \n",
              "4      36869    Business                     0                   2   \n",
              "\n",
              "  vendor_type  ...  rider_license_status  rider_carrier_type  rider_amount  \\\n",
              "0        Bike  ...                     0                   1          1080   \n",
              "1        Bike  ...                     0                   1           730   \n",
              "2        Bike  ...                     1                   1           490   \n",
              "3        Bike  ...                     1                   1           510   \n",
              "4        Bike  ...                     0                   0           400   \n",
              "\n",
              "   rider_lat  rider_long  pickup_lat  pickup_long  drop_off_lat  \\\n",
              "0 -42.698343  -17.228539  -42.692371   -17.248305    -42.687442   \n",
              "1 -42.787317  -17.288252  -42.784046   -17.290121    -42.673267   \n",
              "2 -42.749180  -17.287848  -42.765204   -17.293784    -42.813953   \n",
              "3 -42.836266  -17.311920  -42.831913   -17.315311    -42.812409   \n",
              "4 -42.828195  -17.322818  -42.836056   -17.318111    -42.828517   \n",
              "\n",
              "   drop_off_long  target  \n",
              "0     -17.424682       1  \n",
              "1     -17.234595       2  \n",
              "2     -17.294805       1  \n",
              "3     -17.265441       2  \n",
              "4     -17.302052       0  \n",
              "\n",
              "[5 rows x 21 columns]"
            ],
            "text/html": "<div>\n<style scoped>\n    .dataframe tbody tr th:only-of-type {\n        vertical-align: middle;\n    }\n\n    .dataframe tbody tr th {\n        vertical-align: top;\n    }\n\n    .dataframe thead th {\n        text-align: right;\n    }\n</style>\n<table border=\"1\" class=\"dataframe\">\n  <thead>\n    <tr style=\"text-align: right;\">\n      <th></th>\n      <th>ID</th>\n      <th>order_id</th>\n      <th>dispatch_day</th>\n      <th>dispatch_day_of_week</th>\n      <th>dispatch_time</th>\n      <th>client_id</th>\n      <th>client_type</th>\n      <th>order_license_status</th>\n      <th>order_carrier_type</th>\n      <th>vendor_type</th>\n      <th>...</th>\n      <th>rider_license_status</th>\n      <th>rider_carrier_type</th>\n      <th>rider_amount</th>\n      <th>rider_lat</th>\n      <th>rider_long</th>\n      <th>pickup_lat</th>\n      <th>pickup_long</th>\n      <th>drop_off_lat</th>\n      <th>drop_off_long</th>\n      <th>target</th>\n    </tr>\n  </thead>\n  <tbody>\n    <tr>\n      <th>0</th>\n      <td>ID_SCUW21PVAU</td>\n      <td>4435</td>\n      <td>27</td>\n      <td>6</td>\n      <td>09:02:54</td>\n      <td>593630</td>\n      <td>Business</td>\n      <td>0</td>\n      <td>2</td>\n      <td>Bike</td>\n      <td>...</td>\n      <td>0</td>\n      <td>1</td>\n      <td>1080</td>\n      <td>-42.698343</td>\n      <td>-17.228539</td>\n      <td>-42.692371</td>\n      <td>-17.248305</td>\n      <td>-42.687442</td>\n      <td>-17.424682</td>\n      <td>1</td>\n    </tr>\n    <tr>\n      <th>1</th>\n      <td>ID_2HA7X30JMN</td>\n      <td>32711</td>\n      <td>30</td>\n      <td>7</td>\n      <td>13:01:37</td>\n      <td>837729</td>\n      <td>Personal</td>\n      <td>0</td>\n      <td>1</td>\n      <td>Bike</td>\n      <td>...</td>\n      <td>0</td>\n      <td>1</td>\n      <td>730</td>\n      <td>-42.787317</td>\n      <td>-17.288252</td>\n      <td>-42.784046</td>\n      <td>-17.290121</td>\n      <td>-42.673267</td>\n      <td>-17.234595</td>\n      <td>2</td>\n    </tr>\n    <tr>\n      <th>2</th>\n      <td>ID_IAJWDTBY6M</td>\n      <td>8712</td>\n      <td>14</td>\n      <td>2</td>\n      <td>10:01:00</td>\n      <td>695129</td>\n      <td>Personal</td>\n      <td>0</td>\n      <td>2</td>\n      <td>Bike</td>\n      <td>...</td>\n      <td>1</td>\n      <td>1</td>\n      <td>490</td>\n      <td>-42.749180</td>\n      <td>-17.287848</td>\n      <td>-42.765204</td>\n      <td>-17.293784</td>\n      <td>-42.813953</td>\n      <td>-17.294805</td>\n      <td>1</td>\n    </tr>\n    <tr>\n      <th>3</th>\n      <td>ID_LKSVPNYMTR</td>\n      <td>44869</td>\n      <td>22</td>\n      <td>3</td>\n      <td>14:11:16</td>\n      <td>1504660</td>\n      <td>Personal</td>\n      <td>0</td>\n      <td>2</td>\n      <td>Bike</td>\n      <td>...</td>\n      <td>1</td>\n      <td>1</td>\n      <td>510</td>\n      <td>-42.836266</td>\n      <td>-17.311920</td>\n      <td>-42.831913</td>\n      <td>-17.315311</td>\n      <td>-42.812409</td>\n      <td>-17.265441</td>\n      <td>2</td>\n    </tr>\n    <tr>\n      <th>4</th>\n      <td>ID_O7N8Y918YH</td>\n      <td>57590</td>\n      <td>27</td>\n      <td>5</td>\n      <td>16:11:38</td>\n      <td>36869</td>\n      <td>Business</td>\n      <td>0</td>\n      <td>2</td>\n      <td>Bike</td>\n      <td>...</td>\n      <td>0</td>\n      <td>0</td>\n      <td>400</td>\n      <td>-42.828195</td>\n      <td>-17.322818</td>\n      <td>-42.836056</td>\n      <td>-17.318111</td>\n      <td>-42.828517</td>\n      <td>-17.302052</td>\n      <td>0</td>\n    </tr>\n  </tbody>\n</table>\n<p>5 rows × 21 columns</p>\n</div>"
          },
          "metadata": {},
          "execution_count": 301
        }
      ]
    },
    {
      "cell_type": "code",
      "metadata": {
        "colab": {
          "base_uri": "https://localhost:8080/",
          "height": 195
        },
        "id": "E2paz6AQHUtB",
        "outputId": "bc5801a9-6860-49fa-bd74-e6b7005ee4cd"
      },
      "source": [
        "# Preview riders\n",
        "riders.head()"
      ],
      "execution_count": 302,
      "outputs": [
        {
          "output_type": "execute_result",
          "data": {
            "text/plain": [
              "   Rider ID  Active Rider Age  Average Partner Rating  Number of Ratings\n",
              "0     16261               308                   21.05                321\n",
              "1      8832               224                   10.00                 27\n",
              "2     53866               238                   17.76                 25\n",
              "3     46368               343                   24.56                320\n",
              "4     45609               399                   14.97                214"
            ],
            "text/html": "<div>\n<style scoped>\n    .dataframe tbody tr th:only-of-type {\n        vertical-align: middle;\n    }\n\n    .dataframe tbody tr th {\n        vertical-align: top;\n    }\n\n    .dataframe thead th {\n        text-align: right;\n    }\n</style>\n<table border=\"1\" class=\"dataframe\">\n  <thead>\n    <tr style=\"text-align: right;\">\n      <th></th>\n      <th>Rider ID</th>\n      <th>Active Rider Age</th>\n      <th>Average Partner Rating</th>\n      <th>Number of Ratings</th>\n    </tr>\n  </thead>\n  <tbody>\n    <tr>\n      <th>0</th>\n      <td>16261</td>\n      <td>308</td>\n      <td>21.05</td>\n      <td>321</td>\n    </tr>\n    <tr>\n      <th>1</th>\n      <td>8832</td>\n      <td>224</td>\n      <td>10.00</td>\n      <td>27</td>\n    </tr>\n    <tr>\n      <th>2</th>\n      <td>53866</td>\n      <td>238</td>\n      <td>17.76</td>\n      <td>25</td>\n    </tr>\n    <tr>\n      <th>3</th>\n      <td>46368</td>\n      <td>343</td>\n      <td>24.56</td>\n      <td>320</td>\n    </tr>\n    <tr>\n      <th>4</th>\n      <td>45609</td>\n      <td>399</td>\n      <td>14.97</td>\n      <td>214</td>\n    </tr>\n  </tbody>\n</table>\n</div>"
          },
          "metadata": {},
          "execution_count": 302
        }
      ]
    },
    {
      "cell_type": "code",
      "metadata": {
        "colab": {
          "base_uri": "https://localhost:8080/",
          "height": 249
        },
        "id": "_4cigp83GcVA",
        "outputId": "cca64384-8b9e-41be-99f6-d2f47308cf47"
      },
      "source": [
        "# Merge rider dataset to train and test sets\n",
        "train = train.merge(riders, how = 'left', left_on='rider_id', right_on='Rider ID')\n",
        "test = test.merge(riders, how = 'left', left_on='rider_id', right_on='Rider ID')\n",
        "\n",
        "# Preview merged dataframe\n",
        "train.head()"
      ],
      "execution_count": 303,
      "outputs": [
        {
          "output_type": "execute_result",
          "data": {
            "text/plain": [
              "              ID  order_id  dispatch_day  dispatch_day_of_week dispatch_time  \\\n",
              "0  ID_SCUW21PVAU      4435            27                     6      09:02:54   \n",
              "1  ID_2HA7X30JMN     32711            30                     7      13:01:37   \n",
              "2  ID_IAJWDTBY6M      8712            14                     2      10:01:00   \n",
              "3  ID_LKSVPNYMTR     44869            22                     3      14:11:16   \n",
              "4  ID_O7N8Y918YH     57590            27                     5      16:11:38   \n",
              "\n",
              "   client_id client_type  order_license_status  order_carrier_type  \\\n",
              "0     593630    Business                     0                   2   \n",
              "1     837729    Personal                     0                   1   \n",
              "2     695129    Personal                     0                   2   \n",
              "3    1504660    Personal                     0                   2   \n",
              "4      36869    Business                     0                   2   \n",
              "\n",
              "  vendor_type  ...  rider_long  pickup_lat  pickup_long  drop_off_lat  \\\n",
              "0        Bike  ...  -17.228539  -42.692371   -17.248305    -42.687442   \n",
              "1        Bike  ...  -17.288252  -42.784046   -17.290121    -42.673267   \n",
              "2        Bike  ...  -17.287848  -42.765204   -17.293784    -42.813953   \n",
              "3        Bike  ...  -17.311920  -42.831913   -17.315311    -42.812409   \n",
              "4        Bike  ...  -17.322818  -42.836056   -17.318111    -42.828517   \n",
              "\n",
              "   drop_off_long  target  Rider ID  Active Rider Age  Average Partner Rating  \\\n",
              "0     -17.424682       1     30153                11                   10.00   \n",
              "1     -17.234595       2     20884                68                   24.13   \n",
              "2     -17.294805       1     33143               273                   24.92   \n",
              "3     -17.265441       2     96531               168                   23.76   \n",
              "4     -17.302052       0    103546                95                   24.53   \n",
              "\n",
              "   Number of Ratings  \n",
              "0                  1  \n",
              "1                229  \n",
              "2                123  \n",
              "3                175  \n",
              "4                 42  \n",
              "\n",
              "[5 rows x 25 columns]"
            ],
            "text/html": "<div>\n<style scoped>\n    .dataframe tbody tr th:only-of-type {\n        vertical-align: middle;\n    }\n\n    .dataframe tbody tr th {\n        vertical-align: top;\n    }\n\n    .dataframe thead th {\n        text-align: right;\n    }\n</style>\n<table border=\"1\" class=\"dataframe\">\n  <thead>\n    <tr style=\"text-align: right;\">\n      <th></th>\n      <th>ID</th>\n      <th>order_id</th>\n      <th>dispatch_day</th>\n      <th>dispatch_day_of_week</th>\n      <th>dispatch_time</th>\n      <th>client_id</th>\n      <th>client_type</th>\n      <th>order_license_status</th>\n      <th>order_carrier_type</th>\n      <th>vendor_type</th>\n      <th>...</th>\n      <th>rider_long</th>\n      <th>pickup_lat</th>\n      <th>pickup_long</th>\n      <th>drop_off_lat</th>\n      <th>drop_off_long</th>\n      <th>target</th>\n      <th>Rider ID</th>\n      <th>Active Rider Age</th>\n      <th>Average Partner Rating</th>\n      <th>Number of Ratings</th>\n    </tr>\n  </thead>\n  <tbody>\n    <tr>\n      <th>0</th>\n      <td>ID_SCUW21PVAU</td>\n      <td>4435</td>\n      <td>27</td>\n      <td>6</td>\n      <td>09:02:54</td>\n      <td>593630</td>\n      <td>Business</td>\n      <td>0</td>\n      <td>2</td>\n      <td>Bike</td>\n      <td>...</td>\n      <td>-17.228539</td>\n      <td>-42.692371</td>\n      <td>-17.248305</td>\n      <td>-42.687442</td>\n      <td>-17.424682</td>\n      <td>1</td>\n      <td>30153</td>\n      <td>11</td>\n      <td>10.00</td>\n      <td>1</td>\n    </tr>\n    <tr>\n      <th>1</th>\n      <td>ID_2HA7X30JMN</td>\n      <td>32711</td>\n      <td>30</td>\n      <td>7</td>\n      <td>13:01:37</td>\n      <td>837729</td>\n      <td>Personal</td>\n      <td>0</td>\n      <td>1</td>\n      <td>Bike</td>\n      <td>...</td>\n      <td>-17.288252</td>\n      <td>-42.784046</td>\n      <td>-17.290121</td>\n      <td>-42.673267</td>\n      <td>-17.234595</td>\n      <td>2</td>\n      <td>20884</td>\n      <td>68</td>\n      <td>24.13</td>\n      <td>229</td>\n    </tr>\n    <tr>\n      <th>2</th>\n      <td>ID_IAJWDTBY6M</td>\n      <td>8712</td>\n      <td>14</td>\n      <td>2</td>\n      <td>10:01:00</td>\n      <td>695129</td>\n      <td>Personal</td>\n      <td>0</td>\n      <td>2</td>\n      <td>Bike</td>\n      <td>...</td>\n      <td>-17.287848</td>\n      <td>-42.765204</td>\n      <td>-17.293784</td>\n      <td>-42.813953</td>\n      <td>-17.294805</td>\n      <td>1</td>\n      <td>33143</td>\n      <td>273</td>\n      <td>24.92</td>\n      <td>123</td>\n    </tr>\n    <tr>\n      <th>3</th>\n      <td>ID_LKSVPNYMTR</td>\n      <td>44869</td>\n      <td>22</td>\n      <td>3</td>\n      <td>14:11:16</td>\n      <td>1504660</td>\n      <td>Personal</td>\n      <td>0</td>\n      <td>2</td>\n      <td>Bike</td>\n      <td>...</td>\n      <td>-17.311920</td>\n      <td>-42.831913</td>\n      <td>-17.315311</td>\n      <td>-42.812409</td>\n      <td>-17.265441</td>\n      <td>2</td>\n      <td>96531</td>\n      <td>168</td>\n      <td>23.76</td>\n      <td>175</td>\n    </tr>\n    <tr>\n      <th>4</th>\n      <td>ID_O7N8Y918YH</td>\n      <td>57590</td>\n      <td>27</td>\n      <td>5</td>\n      <td>16:11:38</td>\n      <td>36869</td>\n      <td>Business</td>\n      <td>0</td>\n      <td>2</td>\n      <td>Bike</td>\n      <td>...</td>\n      <td>-17.322818</td>\n      <td>-42.836056</td>\n      <td>-17.318111</td>\n      <td>-42.828517</td>\n      <td>-17.302052</td>\n      <td>0</td>\n      <td>103546</td>\n      <td>95</td>\n      <td>24.53</td>\n      <td>42</td>\n    </tr>\n  </tbody>\n</table>\n<p>5 rows × 25 columns</p>\n</div>"
          },
          "metadata": {},
          "execution_count": 303
        }
      ]
    },
    {
      "cell_type": "code",
      "metadata": {
        "id": "ndd1PymsLRiN"
      },
      "source": [
        "# One hot encoding\n",
        "train = pd.get_dummies(train, columns=['client_type', 'vendor_type','order_carrier_type','rider_carrier_type','target'])\n",
        "test = pd.get_dummies(test, columns=['client_type', 'vendor_type','order_carrier_type','rider_carrier_type'])\n",
        "\n",
        "train.head()\n",
        "train.info()"
      ],
      "execution_count": 304,
      "outputs": [
        {
          "output_type": "stream",
          "name": "stdout",
          "text": [
            "<class 'pandas.core.frame.DataFrame'>\nInt64Index: 179867 entries, 0 to 179866\nData columns (total 31 columns):\n #   Column                  Non-Null Count   Dtype  \n---  ------                  --------------   -----  \n 0   ID                      179867 non-null  object \n 1   order_id                179867 non-null  int64  \n 2   dispatch_day            179867 non-null  int64  \n 3   dispatch_day_of_week    179867 non-null  int64  \n 4   dispatch_time           179867 non-null  object \n 5   client_id               179867 non-null  int64  \n 6   order_license_status    179867 non-null  int64  \n 7   rider_id                179867 non-null  int64  \n 8   rider_license_status    179867 non-null  int64  \n 9   rider_amount            179867 non-null  int64  \n 10  rider_lat               179867 non-null  float64\n 11  rider_long              179867 non-null  float64\n 12  pickup_lat              179867 non-null  float64\n 13  pickup_long             179867 non-null  float64\n 14  drop_off_lat            179867 non-null  float64\n 15  drop_off_long           179867 non-null  float64\n 16  Rider ID                179867 non-null  int64  \n 17  Active Rider Age        179867 non-null  int64  \n 18  Average Partner Rating  179867 non-null  float64\n 19  Number of Ratings       179867 non-null  int64  \n 20  client_type_Business    179867 non-null  uint8  \n 21  client_type_Personal    179867 non-null  uint8  \n 22  vendor_type_Bike        179867 non-null  uint8  \n 23  order_carrier_type_0    179867 non-null  uint8  \n 24  order_carrier_type_1    179867 non-null  uint8  \n 25  order_carrier_type_2    179867 non-null  uint8  \n 26  rider_carrier_type_0    179867 non-null  uint8  \n 27  rider_carrier_type_1    179867 non-null  uint8  \n 28  target_0                179867 non-null  uint8  \n 29  target_1                179867 non-null  uint8  \n 30  target_2                179867 non-null  uint8  \ndtypes: float64(7), int64(11), object(2), uint8(11)\nmemory usage: 30.7+ MB\n"
          ]
        }
      ]
    },
    {
      "cell_type": "code",
      "metadata": {
        "colab": {
          "base_uri": "https://localhost:8080/"
        },
        "id": "6odSlKUfGgCU",
        "outputId": "ae2b5129-8c2a-497a-e4c4-e0424a65cf09"
      },
      "source": [
        "train['rider_to_drop_off_dist'] = (train['rider_lat'] - train['drop_off_lat'])**2 + (train['rider_long'] - train['drop_off_long'])**2\n",
        "train['rider_to_drop_off_dist'] = train['rider_to_drop_off_dist'].apply(np.sqrt)\n",
        "\n",
        "train['rider_to_pickup_dist'] = (train['rider_lat'] - train['pickup_lat'])**2 + (train['rider_long'] - train['pickup_long'])**2\n",
        "train['rider_to_pickup_dist'] = train['rider_to_pickup_dist'].apply(np.sqrt)\n",
        "\n",
        "test['rider_to_drop_off_dist'] = (test['rider_lat'] - test['drop_off_lat'])**2 + (test['rider_long'] - test['drop_off_long'])**2\n",
        "test['rider_to_drop_off_dist'] = test['rider_to_drop_off_dist'].apply(np.sqrt)\n",
        "\n",
        "test['rider_to_pickup_dist'] = (test['rider_lat'] - test['pickup_lat'])**2 + (test['rider_long'] - test['pickup_long'])**2\n",
        "test['rider_to_pickup_dist'] = test['rider_to_pickup_dist'].apply(np.sqrt)\n",
        "\n",
        "# Split data\n",
        "main_cols = train.columns.difference(['ID', 'order_id', 'rider_id', 'Rider ID', 'target_0','target_1','target_2', 'dispatch_time','dispatch_day',\t'client_id','drop_off_lat','drop_off_long','pickup_lat','pickup_long','rider_lat','rider_long']).tolist()\n",
        "target_cols = ['target_0','target_1','target_2']\n",
        "norm_num_cols = ['Active Rider Age', 'Average Partner Rating', 'Number of Ratings','rider_amount','rider_to_drop_off_dist','rider_to_pickup_dist']\n",
        "\n",
        "#normalize numerical data\n",
        "train['dispatch_day_of_week'] = train['dispatch_day_of_week']/7\n",
        "test['dispatch_day_of_week'] = test['dispatch_day_of_week']/7\n",
        "\n",
        "for col in norm_num_cols:\n",
        "    #all_data[col] = all_data[col].fillna(all_data[col].median())\n",
        "    test[col] = (test[col] - train[col].mean())/train[col].std()\n",
        "    train[col] = (train[col] - train[col].mean())/train[col].std()\n",
        "    \n",
        "\n",
        "X = test[main_cols]\n",
        "y = train[target_cols]\n",
        "\n",
        "#X.head(1)\n",
        "#X.info()\n",
        "#y.info()\n",
        "y.head(5)\n",
        "#X_train, X_test, y_train, y_test = train_test_split(X, y, test_size = 0.2, random_state = 3031)\n",
        "#X_test.info()\n",
        "# Train a model\n",
        "#model = LGBMClassifier(random_state=3031)\n",
        "#model.fit(X_train, y_train)\n",
        "\n",
        "# Make predictions\n",
        "#y_pred = model.predict(X_test)  ###0.005972^2 + 0.196143^2\n",
        "\n",
        "# Check score\n",
        "#accuracy_score(y_test, y_pred)"
      ],
      "execution_count": 305,
      "outputs": [
        {
          "output_type": "stream",
          "name": "stdout",
          "text": [
            "<class 'pandas.core.frame.DataFrame'>\nInt64Index: 35974 entries, 89599 to 52315\nData columns (total 22 columns):\n #   Column                  Non-Null Count  Dtype  \n---  ------                  --------------  -----  \n 0   Active Rider Age        35974 non-null  int64  \n 1   Average Partner Rating  35974 non-null  float64\n 2   Number of Ratings       35974 non-null  int64  \n 3   client_type_Business    35974 non-null  uint8  \n 4   client_type_Personal    35974 non-null  uint8  \n 5   dispatch_day            35974 non-null  int64  \n 6   dispatch_day_of_week    35974 non-null  int64  \n 7   drop_off_lat            35974 non-null  float64\n 8   drop_off_long           35974 non-null  float64\n 9   order_carrier_type_0    35974 non-null  uint8  \n 10  order_carrier_type_1    35974 non-null  uint8  \n 11  order_carrier_type_2    35974 non-null  uint8  \n 12  order_license_status    35974 non-null  int64  \n 13  pickup_lat              35974 non-null  float64\n 14  pickup_long             35974 non-null  float64\n 15  rider_amount            35974 non-null  int64  \n 16  rider_carrier_type_0    35974 non-null  uint8  \n 17  rider_carrier_type_1    35974 non-null  uint8  \n 18  rider_lat               35974 non-null  float64\n 19  rider_license_status    35974 non-null  int64  \n 20  rider_long              35974 non-null  float64\n 21  vendor_type_Bike        35974 non-null  uint8  \ndtypes: float64(7), int64(7), uint8(8)\nmemory usage: 4.4 MB\n"
          ]
        }
      ]
    },
    {
      "cell_type": "code",
      "metadata": {
        "id": "llaGERIUGpua"
      },
      "source": [
        "# Make predictions in test set and prepare submission file\n",
        "#predictions = model.predict(test[main_cols])\n",
        "#sub_file = ss.copy()\n",
        "#sub_file.target = predictions\n",
        "s#ub_file.to_csv('Baseline.csv', index = False)"
      ],
      "execution_count": 306,
      "outputs": [
        {
          "output_type": "error",
          "ename": "NameError",
          "evalue": "name 's' is not defined",
          "traceback": [
            "\u001b[1;31m---------------------------------------------------------------------------\u001b[0m",
            "\u001b[1;31mNameError\u001b[0m                                 Traceback (most recent call last)",
            "\u001b[1;32m<ipython-input-306-a347b6258470>\u001b[0m in \u001b[0;36m<module>\u001b[1;34m\u001b[0m\n\u001b[0;32m      3\u001b[0m \u001b[1;31m#sub_file = ss.copy()\u001b[0m\u001b[1;33m\u001b[0m\u001b[1;33m\u001b[0m\u001b[1;33m\u001b[0m\u001b[0m\n\u001b[0;32m      4\u001b[0m \u001b[1;31m#sub_file.target = predictions\u001b[0m\u001b[1;33m\u001b[0m\u001b[1;33m\u001b[0m\u001b[1;33m\u001b[0m\u001b[0m\n\u001b[1;32m----> 5\u001b[1;33m \u001b[0ms\u001b[0m\u001b[1;31m#ub_file.to_csv('Baseline.csv', index = False)\u001b[0m\u001b[1;33m\u001b[0m\u001b[1;33m\u001b[0m\u001b[0m\n\u001b[0m",
            "\u001b[1;31mNameError\u001b[0m: name 's' is not defined"
          ]
        }
      ]
    }
  ]
}